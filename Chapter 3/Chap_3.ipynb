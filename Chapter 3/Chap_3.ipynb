{
  "nbformat": 4,
  "nbformat_minor": 0,
  "metadata": {
    "kernelspec": {
      "display_name": "Python 3",
      "language": "python",
      "name": "python3"
    },
    "language_info": {
      "codemirror_mode": {
        "name": "ipython",
        "version": 3
      },
      "file_extension": ".py",
      "mimetype": "text/x-python",
      "name": "python",
      "nbconvert_exporter": "python",
      "pygments_lexer": "ipython3",
      "version": "3.6.9"
    },
    "colab": {
      "name": "Chap_3.ipynb",
      "provenance": [],
      "collapsed_sections": [],
      "toc_visible": true,
      "include_colab_link": true
    }
  },
  "cells": [
    {
      "cell_type": "markdown",
      "metadata": {
        "id": "view-in-github",
        "colab_type": "text"
      },
      "source": [
        "<a href=\"https://colab.research.google.com/github/suelensantos/packt-data-science-workshop/blob/master/Chap_3.ipynb\" target=\"_parent\"><img src=\"https://colab.research.google.com/assets/colab-badge.svg\" alt=\"Open In Colab\"/></a>"
      ]
    },
    {
      "cell_type": "markdown",
      "metadata": {
        "id": "77aVGB88he8O",
        "colab_type": "text"
      },
      "source": [
        "### Binary Classification"
      ]
    },
    {
      "cell_type": "markdown",
      "metadata": {
        "id": "Tl66ieGmhe8Q",
        "colab_type": "text"
      },
      "source": [
        "#### Exercise 3.01"
      ]
    },
    {
      "cell_type": "code",
      "metadata": {
        "id": "9TRXkZ_whe8S",
        "colab_type": "code",
        "colab": {}
      },
      "source": [
        "import pandas as pd"
      ],
      "execution_count": 0,
      "outputs": []
    },
    {
      "cell_type": "code",
      "metadata": {
        "id": "Y3EkRty_he8c",
        "colab_type": "code",
        "colab": {}
      },
      "source": [
        "file_url = \"https://raw.githubusercontent.com/PacktWorkshops/The-Data-Science-Workshop/master/Chapter03/bank-full.csv\""
      ],
      "execution_count": 0,
      "outputs": []
    },
    {
      "cell_type": "code",
      "metadata": {
        "id": "k5Wl6WAche8l",
        "colab_type": "code",
        "outputId": "03889f3d-b64f-4091-e4d5-79d3a99f44d4",
        "colab": {
          "base_uri": "https://localhost:8080/",
          "height": 224
        }
      },
      "source": [
        "# Loading the data using pandas\n",
        "bankData = pd.read_csv(file_url, sep=\";\")\n",
        "bankData.head()"
      ],
      "execution_count": 0,
      "outputs": [
        {
          "output_type": "execute_result",
          "data": {
            "text/html": [
              "<div>\n",
              "<style scoped>\n",
              "    .dataframe tbody tr th:only-of-type {\n",
              "        vertical-align: middle;\n",
              "    }\n",
              "\n",
              "    .dataframe tbody tr th {\n",
              "        vertical-align: top;\n",
              "    }\n",
              "\n",
              "    .dataframe thead th {\n",
              "        text-align: right;\n",
              "    }\n",
              "</style>\n",
              "<table border=\"1\" class=\"dataframe\">\n",
              "  <thead>\n",
              "    <tr style=\"text-align: right;\">\n",
              "      <th></th>\n",
              "      <th>age</th>\n",
              "      <th>job</th>\n",
              "      <th>marital</th>\n",
              "      <th>education</th>\n",
              "      <th>default</th>\n",
              "      <th>balance</th>\n",
              "      <th>housing</th>\n",
              "      <th>loan</th>\n",
              "      <th>contact</th>\n",
              "      <th>day</th>\n",
              "      <th>month</th>\n",
              "      <th>duration</th>\n",
              "      <th>campaign</th>\n",
              "      <th>pdays</th>\n",
              "      <th>previous</th>\n",
              "      <th>poutcome</th>\n",
              "      <th>y</th>\n",
              "    </tr>\n",
              "  </thead>\n",
              "  <tbody>\n",
              "    <tr>\n",
              "      <th>0</th>\n",
              "      <td>58</td>\n",
              "      <td>management</td>\n",
              "      <td>married</td>\n",
              "      <td>tertiary</td>\n",
              "      <td>no</td>\n",
              "      <td>2143</td>\n",
              "      <td>yes</td>\n",
              "      <td>no</td>\n",
              "      <td>unknown</td>\n",
              "      <td>5</td>\n",
              "      <td>may</td>\n",
              "      <td>261</td>\n",
              "      <td>1</td>\n",
              "      <td>-1</td>\n",
              "      <td>0</td>\n",
              "      <td>unknown</td>\n",
              "      <td>no</td>\n",
              "    </tr>\n",
              "    <tr>\n",
              "      <th>1</th>\n",
              "      <td>44</td>\n",
              "      <td>technician</td>\n",
              "      <td>single</td>\n",
              "      <td>secondary</td>\n",
              "      <td>no</td>\n",
              "      <td>29</td>\n",
              "      <td>yes</td>\n",
              "      <td>no</td>\n",
              "      <td>unknown</td>\n",
              "      <td>5</td>\n",
              "      <td>may</td>\n",
              "      <td>151</td>\n",
              "      <td>1</td>\n",
              "      <td>-1</td>\n",
              "      <td>0</td>\n",
              "      <td>unknown</td>\n",
              "      <td>no</td>\n",
              "    </tr>\n",
              "    <tr>\n",
              "      <th>2</th>\n",
              "      <td>33</td>\n",
              "      <td>entrepreneur</td>\n",
              "      <td>married</td>\n",
              "      <td>secondary</td>\n",
              "      <td>no</td>\n",
              "      <td>2</td>\n",
              "      <td>yes</td>\n",
              "      <td>yes</td>\n",
              "      <td>unknown</td>\n",
              "      <td>5</td>\n",
              "      <td>may</td>\n",
              "      <td>76</td>\n",
              "      <td>1</td>\n",
              "      <td>-1</td>\n",
              "      <td>0</td>\n",
              "      <td>unknown</td>\n",
              "      <td>no</td>\n",
              "    </tr>\n",
              "    <tr>\n",
              "      <th>3</th>\n",
              "      <td>47</td>\n",
              "      <td>blue-collar</td>\n",
              "      <td>married</td>\n",
              "      <td>unknown</td>\n",
              "      <td>no</td>\n",
              "      <td>1506</td>\n",
              "      <td>yes</td>\n",
              "      <td>no</td>\n",
              "      <td>unknown</td>\n",
              "      <td>5</td>\n",
              "      <td>may</td>\n",
              "      <td>92</td>\n",
              "      <td>1</td>\n",
              "      <td>-1</td>\n",
              "      <td>0</td>\n",
              "      <td>unknown</td>\n",
              "      <td>no</td>\n",
              "    </tr>\n",
              "    <tr>\n",
              "      <th>4</th>\n",
              "      <td>33</td>\n",
              "      <td>unknown</td>\n",
              "      <td>single</td>\n",
              "      <td>unknown</td>\n",
              "      <td>no</td>\n",
              "      <td>1</td>\n",
              "      <td>no</td>\n",
              "      <td>no</td>\n",
              "      <td>unknown</td>\n",
              "      <td>5</td>\n",
              "      <td>may</td>\n",
              "      <td>198</td>\n",
              "      <td>1</td>\n",
              "      <td>-1</td>\n",
              "      <td>0</td>\n",
              "      <td>unknown</td>\n",
              "      <td>no</td>\n",
              "    </tr>\n",
              "  </tbody>\n",
              "</table>\n",
              "</div>"
            ],
            "text/plain": [
              "   age           job  marital  education  ... pdays  previous poutcome   y\n",
              "0   58    management  married   tertiary  ...    -1         0  unknown  no\n",
              "1   44    technician   single  secondary  ...    -1         0  unknown  no\n",
              "2   33  entrepreneur  married  secondary  ...    -1         0  unknown  no\n",
              "3   47   blue-collar  married    unknown  ...    -1         0  unknown  no\n",
              "4   33       unknown   single    unknown  ...    -1         0  unknown  no\n",
              "\n",
              "[5 rows x 17 columns]"
            ]
          },
          "metadata": {
            "tags": []
          },
          "execution_count": 4
        }
      ]
    },
    {
      "cell_type": "code",
      "metadata": {
        "id": "5B8rbaMAhe85",
        "colab_type": "code",
        "outputId": "af7f8890-8579-4a6b-a0e1-442fd2a29875",
        "colab": {
          "base_uri": "https://localhost:8080/",
          "height": 34
        }
      },
      "source": [
        "# Printing the shape of the data\n",
        "print(bankData.shape)"
      ],
      "execution_count": 0,
      "outputs": [
        {
          "output_type": "stream",
          "text": [
            "(45211, 17)\n"
          ],
          "name": "stdout"
        }
      ]
    },
    {
      "cell_type": "code",
      "metadata": {
        "id": "KdclCCBDhe9F",
        "colab_type": "code",
        "outputId": "dfff1c5e-d524-432a-9685-093193fd0a66",
        "colab": {
          "base_uri": "https://localhost:8080/",
          "height": 297
        }
      },
      "source": [
        "# Summarizing the statistics of the numerical raw data\n",
        "bankData.describe()"
      ],
      "execution_count": 0,
      "outputs": [
        {
          "output_type": "execute_result",
          "data": {
            "text/html": [
              "<div>\n",
              "<style scoped>\n",
              "    .dataframe tbody tr th:only-of-type {\n",
              "        vertical-align: middle;\n",
              "    }\n",
              "\n",
              "    .dataframe tbody tr th {\n",
              "        vertical-align: top;\n",
              "    }\n",
              "\n",
              "    .dataframe thead th {\n",
              "        text-align: right;\n",
              "    }\n",
              "</style>\n",
              "<table border=\"1\" class=\"dataframe\">\n",
              "  <thead>\n",
              "    <tr style=\"text-align: right;\">\n",
              "      <th></th>\n",
              "      <th>age</th>\n",
              "      <th>balance</th>\n",
              "      <th>day</th>\n",
              "      <th>duration</th>\n",
              "      <th>campaign</th>\n",
              "      <th>pdays</th>\n",
              "      <th>previous</th>\n",
              "    </tr>\n",
              "  </thead>\n",
              "  <tbody>\n",
              "    <tr>\n",
              "      <th>count</th>\n",
              "      <td>45211.000000</td>\n",
              "      <td>45211.000000</td>\n",
              "      <td>45211.000000</td>\n",
              "      <td>45211.000000</td>\n",
              "      <td>45211.000000</td>\n",
              "      <td>45211.000000</td>\n",
              "      <td>45211.000000</td>\n",
              "    </tr>\n",
              "    <tr>\n",
              "      <th>mean</th>\n",
              "      <td>40.936210</td>\n",
              "      <td>1362.272058</td>\n",
              "      <td>15.806419</td>\n",
              "      <td>258.163080</td>\n",
              "      <td>2.763841</td>\n",
              "      <td>40.197828</td>\n",
              "      <td>0.580323</td>\n",
              "    </tr>\n",
              "    <tr>\n",
              "      <th>std</th>\n",
              "      <td>10.618762</td>\n",
              "      <td>3044.765829</td>\n",
              "      <td>8.322476</td>\n",
              "      <td>257.527812</td>\n",
              "      <td>3.098021</td>\n",
              "      <td>100.128746</td>\n",
              "      <td>2.303441</td>\n",
              "    </tr>\n",
              "    <tr>\n",
              "      <th>min</th>\n",
              "      <td>18.000000</td>\n",
              "      <td>-8019.000000</td>\n",
              "      <td>1.000000</td>\n",
              "      <td>0.000000</td>\n",
              "      <td>1.000000</td>\n",
              "      <td>-1.000000</td>\n",
              "      <td>0.000000</td>\n",
              "    </tr>\n",
              "    <tr>\n",
              "      <th>25%</th>\n",
              "      <td>33.000000</td>\n",
              "      <td>72.000000</td>\n",
              "      <td>8.000000</td>\n",
              "      <td>103.000000</td>\n",
              "      <td>1.000000</td>\n",
              "      <td>-1.000000</td>\n",
              "      <td>0.000000</td>\n",
              "    </tr>\n",
              "    <tr>\n",
              "      <th>50%</th>\n",
              "      <td>39.000000</td>\n",
              "      <td>448.000000</td>\n",
              "      <td>16.000000</td>\n",
              "      <td>180.000000</td>\n",
              "      <td>2.000000</td>\n",
              "      <td>-1.000000</td>\n",
              "      <td>0.000000</td>\n",
              "    </tr>\n",
              "    <tr>\n",
              "      <th>75%</th>\n",
              "      <td>48.000000</td>\n",
              "      <td>1428.000000</td>\n",
              "      <td>21.000000</td>\n",
              "      <td>319.000000</td>\n",
              "      <td>3.000000</td>\n",
              "      <td>-1.000000</td>\n",
              "      <td>0.000000</td>\n",
              "    </tr>\n",
              "    <tr>\n",
              "      <th>max</th>\n",
              "      <td>95.000000</td>\n",
              "      <td>102127.000000</td>\n",
              "      <td>31.000000</td>\n",
              "      <td>4918.000000</td>\n",
              "      <td>63.000000</td>\n",
              "      <td>871.000000</td>\n",
              "      <td>275.000000</td>\n",
              "    </tr>\n",
              "  </tbody>\n",
              "</table>\n",
              "</div>"
            ],
            "text/plain": [
              "                age        balance  ...         pdays      previous\n",
              "count  45211.000000   45211.000000  ...  45211.000000  45211.000000\n",
              "mean      40.936210    1362.272058  ...     40.197828      0.580323\n",
              "std       10.618762    3044.765829  ...    100.128746      2.303441\n",
              "min       18.000000   -8019.000000  ...     -1.000000      0.000000\n",
              "25%       33.000000      72.000000  ...     -1.000000      0.000000\n",
              "50%       39.000000     448.000000  ...     -1.000000      0.000000\n",
              "75%       48.000000    1428.000000  ...     -1.000000      0.000000\n",
              "max       95.000000  102127.000000  ...    871.000000    275.000000\n",
              "\n",
              "[8 rows x 7 columns]"
            ]
          },
          "metadata": {
            "tags": []
          },
          "execution_count": 6
        }
      ]
    },
    {
      "cell_type": "markdown",
      "metadata": {
        "id": "DAPSqy0xhe9O",
        "colab_type": "text"
      },
      "source": [
        "#### Testing Business Hypotheses Using Exploratory Data Analysis"
      ]
    },
    {
      "cell_type": "code",
      "metadata": {
        "id": "k2Z1cBYVhe9Q",
        "colab_type": "code",
        "colab": {}
      },
      "source": [
        "# EDA - Exploratory Data Analysis"
      ],
      "execution_count": 0,
      "outputs": []
    },
    {
      "cell_type": "code",
      "metadata": {
        "id": "bAmZkSc_he9a",
        "colab_type": "code",
        "colab": {}
      },
      "source": [
        "import matplotlib.pyplot as plt\n",
        "import numpy as np"
      ],
      "execution_count": 0,
      "outputs": []
    },
    {
      "cell_type": "code",
      "metadata": {
        "id": "hXluXjaXhe9i",
        "colab_type": "code",
        "colab": {}
      },
      "source": [
        "# Create a simple list of categories\n",
        "jobList = ['admin', 'scientist', 'doctor', 'management']"
      ],
      "execution_count": 0,
      "outputs": []
    },
    {
      "cell_type": "code",
      "metadata": {
        "id": "aJy05cjQhe9p",
        "colab_type": "code",
        "colab": {}
      },
      "source": [
        "# Getting two categories ('yes', 'no') for each of jobs\n",
        "jobYes = [20,60,70,40]\n",
        "jobNo = [80,40,30,60]"
      ],
      "execution_count": 0,
      "outputs": []
    },
    {
      "cell_type": "code",
      "metadata": {
        "id": "1mlqR_kyhe9v",
        "colab_type": "code",
        "colab": {}
      },
      "source": [
        "# Get the length of x axis labels and arranging its indexes\n",
        "xlabels = len(jobList)\n",
        "ind = np.arange(xlabels)"
      ],
      "execution_count": 0,
      "outputs": []
    },
    {
      "cell_type": "code",
      "metadata": {
        "id": "VCRmJLZGhe93",
        "colab_type": "code",
        "outputId": "0336a36b-b1cb-4b61-e04a-cb6b2e723a77",
        "colab": {
          "base_uri": "https://localhost:8080/",
          "height": 34
        }
      },
      "source": [
        "xlabels"
      ],
      "execution_count": 0,
      "outputs": [
        {
          "output_type": "execute_result",
          "data": {
            "text/plain": [
              "4"
            ]
          },
          "metadata": {
            "tags": []
          },
          "execution_count": 11
        }
      ]
    },
    {
      "cell_type": "code",
      "metadata": {
        "id": "CYcQqGiOhe9_",
        "colab_type": "code",
        "outputId": "94dadb60-a482-4a82-8abb-beef40e2db63",
        "colab": {
          "base_uri": "https://localhost:8080/",
          "height": 34
        }
      },
      "source": [
        "ind"
      ],
      "execution_count": 0,
      "outputs": [
        {
          "output_type": "execute_result",
          "data": {
            "text/plain": [
              "array([0, 1, 2, 3])"
            ]
          },
          "metadata": {
            "tags": []
          },
          "execution_count": 12
        }
      ]
    },
    {
      "cell_type": "code",
      "metadata": {
        "id": "QgXbihyIhe-G",
        "colab_type": "code",
        "colab": {}
      },
      "source": [
        "# Get width of each bar\n",
        "width = 0.35"
      ],
      "execution_count": 0,
      "outputs": []
    },
    {
      "cell_type": "code",
      "metadata": {
        "id": "ZgyXnY4whe-M",
        "colab_type": "code",
        "outputId": "9af3db81-8b69-4a37-cf1b-506bc5ee8532",
        "colab": {
          "base_uri": "https://localhost:8080/",
          "height": 338
        }
      },
      "source": [
        "# Getting the plots\n",
        "p1 = plt.bar(ind, jobYes, width)\n",
        "p2 = plt.bar(ind, jobNo, width, bottom=jobYes) # jobNo acima de jobYes\n",
        "\n",
        "# Getting the labels for the plots\n",
        "plt.ylabel('Proportion of Jobs')\n",
        "plt.title('Job')\n",
        "\n",
        "# Defining the x label indexes and y label indexes\n",
        "plt.xticks(ind, jobList)\n",
        "plt.yticks(np.arange(0, 100, 10))\n",
        "\n",
        "# Defining the legends\n",
        "plt.legend((p1[0], p2[0]), ('Yes', 'No'))\n",
        "\n",
        "# To rotate the axis labels\n",
        "plt.xticks(rotation=90)\n",
        "plt.show()"
      ],
      "execution_count": 0,
      "outputs": [
        {
          "output_type": "display_data",
          "data": {
            "image/png": "[encoded data removed]",
            "text/plain": [
              "<Figure size 432x288 with 1 Axes>"
            ]
          },
          "metadata": {
            "tags": [],
            "needs_background": "light"
          }
        }
      ]
    },
    {
      "cell_type": "markdown",
      "metadata": {
        "id": "9v5d2OVIhe-S",
        "colab_type": "text"
      },
      "source": [
        "#### Exercise 3.02"
      ]
    },
    {
      "cell_type": "code",
      "metadata": {
        "id": "9KZzQLhThe-U",
        "colab_type": "code",
        "colab": {}
      },
      "source": [
        "# Hypothesis: The propensity to buy term deposits is more with elderly customers compared to younger ones."
      ],
      "execution_count": 0,
      "outputs": []
    },
    {
      "cell_type": "code",
      "metadata": {
        "id": "r3AJfr5Bhe-a",
        "colab_type": "code",
        "colab": {}
      },
      "source": [
        "import altair as alt"
      ],
      "execution_count": 0,
      "outputs": []
    },
    {
      "cell_type": "code",
      "metadata": {
        "id": "i6-I-Lg3he-g",
        "colab_type": "code",
        "outputId": "d71e805b-5d68-4f60-ce28-090bf71e62a8",
        "colab": {
          "base_uri": "https://localhost:8080/",
          "height": 224
        }
      },
      "source": [
        "bankData.head()"
      ],
      "execution_count": 0,
      "outputs": [
        {
          "output_type": "execute_result",
          "data": {
            "text/html": [
              "<div>\n",
              "<style scoped>\n",
              "    .dataframe tbody tr th:only-of-type {\n",
              "        vertical-align: middle;\n",
              "    }\n",
              "\n",
              "    .dataframe tbody tr th {\n",
              "        vertical-align: top;\n",
              "    }\n",
              "\n",
              "    .dataframe thead th {\n",
              "        text-align: right;\n",
              "    }\n",
              "</style>\n",
              "<table border=\"1\" class=\"dataframe\">\n",
              "  <thead>\n",
              "    <tr style=\"text-align: right;\">\n",
              "      <th></th>\n",
              "      <th>age</th>\n",
              "      <th>job</th>\n",
              "      <th>marital</th>\n",
              "      <th>education</th>\n",
              "      <th>default</th>\n",
              "      <th>balance</th>\n",
              "      <th>housing</th>\n",
              "      <th>loan</th>\n",
              "      <th>contact</th>\n",
              "      <th>day</th>\n",
              "      <th>month</th>\n",
              "      <th>duration</th>\n",
              "      <th>campaign</th>\n",
              "      <th>pdays</th>\n",
              "      <th>previous</th>\n",
              "      <th>poutcome</th>\n",
              "      <th>y</th>\n",
              "    </tr>\n",
              "  </thead>\n",
              "  <tbody>\n",
              "    <tr>\n",
              "      <th>0</th>\n",
              "      <td>58</td>\n",
              "      <td>management</td>\n",
              "      <td>married</td>\n",
              "      <td>tertiary</td>\n",
              "      <td>no</td>\n",
              "      <td>2143</td>\n",
              "      <td>yes</td>\n",
              "      <td>no</td>\n",
              "      <td>unknown</td>\n",
              "      <td>5</td>\n",
              "      <td>may</td>\n",
              "      <td>261</td>\n",
              "      <td>1</td>\n",
              "      <td>-1</td>\n",
              "      <td>0</td>\n",
              "      <td>unknown</td>\n",
              "      <td>no</td>\n",
              "    </tr>\n",
              "    <tr>\n",
              "      <th>1</th>\n",
              "      <td>44</td>\n",
              "      <td>technician</td>\n",
              "      <td>single</td>\n",
              "      <td>secondary</td>\n",
              "      <td>no</td>\n",
              "      <td>29</td>\n",
              "      <td>yes</td>\n",
              "      <td>no</td>\n",
              "      <td>unknown</td>\n",
              "      <td>5</td>\n",
              "      <td>may</td>\n",
              "      <td>151</td>\n",
              "      <td>1</td>\n",
              "      <td>-1</td>\n",
              "      <td>0</td>\n",
              "      <td>unknown</td>\n",
              "      <td>no</td>\n",
              "    </tr>\n",
              "    <tr>\n",
              "      <th>2</th>\n",
              "      <td>33</td>\n",
              "      <td>entrepreneur</td>\n",
              "      <td>married</td>\n",
              "      <td>secondary</td>\n",
              "      <td>no</td>\n",
              "      <td>2</td>\n",
              "      <td>yes</td>\n",
              "      <td>yes</td>\n",
              "      <td>unknown</td>\n",
              "      <td>5</td>\n",
              "      <td>may</td>\n",
              "      <td>76</td>\n",
              "      <td>1</td>\n",
              "      <td>-1</td>\n",
              "      <td>0</td>\n",
              "      <td>unknown</td>\n",
              "      <td>no</td>\n",
              "    </tr>\n",
              "    <tr>\n",
              "      <th>3</th>\n",
              "      <td>47</td>\n",
              "      <td>blue-collar</td>\n",
              "      <td>married</td>\n",
              "      <td>unknown</td>\n",
              "      <td>no</td>\n",
              "      <td>1506</td>\n",
              "      <td>yes</td>\n",
              "      <td>no</td>\n",
              "      <td>unknown</td>\n",
              "      <td>5</td>\n",
              "      <td>may</td>\n",
              "      <td>92</td>\n",
              "      <td>1</td>\n",
              "      <td>-1</td>\n",
              "      <td>0</td>\n",
              "      <td>unknown</td>\n",
              "      <td>no</td>\n",
              "    </tr>\n",
              "    <tr>\n",
              "      <th>4</th>\n",
              "      <td>33</td>\n",
              "      <td>unknown</td>\n",
              "      <td>single</td>\n",
              "      <td>unknown</td>\n",
              "      <td>no</td>\n",
              "      <td>1</td>\n",
              "      <td>no</td>\n",
              "      <td>no</td>\n",
              "      <td>unknown</td>\n",
              "      <td>5</td>\n",
              "      <td>may</td>\n",
              "      <td>198</td>\n",
              "      <td>1</td>\n",
              "      <td>-1</td>\n",
              "      <td>0</td>\n",
              "      <td>unknown</td>\n",
              "      <td>no</td>\n",
              "    </tr>\n",
              "  </tbody>\n",
              "</table>\n",
              "</div>"
            ],
            "text/plain": [
              "   age           job  marital  education  ... pdays  previous poutcome   y\n",
              "0   58    management  married   tertiary  ...    -1         0  unknown  no\n",
              "1   44    technician   single  secondary  ...    -1         0  unknown  no\n",
              "2   33  entrepreneur  married  secondary  ...    -1         0  unknown  no\n",
              "3   47   blue-collar  married    unknown  ...    -1         0  unknown  no\n",
              "4   33       unknown   single    unknown  ...    -1         0  unknown  no\n",
              "\n",
              "[5 rows x 17 columns]"
            ]
          },
          "metadata": {
            "tags": []
          },
          "execution_count": 16
        }
      ]
    },
    {
      "cell_type": "code",
      "metadata": {
        "id": "bGMHyIB4he-o",
        "colab_type": "code",
        "outputId": "9c8ea553-f164-44d3-d468-bf1ef4d04053",
        "colab": {
          "base_uri": "https://localhost:8080/",
          "height": 204
        }
      },
      "source": [
        "# We will be verifying how the purchased term deposits are distributed by age.\n",
        "\n",
        "filter_mask = bankData['y'] == 'yes'\n",
        "\n",
        "# Call .groupby() and pass the name of the column you want to group on, which is \"age\". \n",
        "# Then, you use [\"y\"] to specify the columns on which you want to perform the actual aggregation.\n",
        "\n",
        "bankSub1 = bankData[filter_mask].groupby('age')['y'].agg(agegrp='count').reset_index()\n",
        "bankSub1.head()"
      ],
      "execution_count": 0,
      "outputs": [
        {
          "output_type": "execute_result",
          "data": {
            "text/html": [
              "<div>\n",
              "<style scoped>\n",
              "    .dataframe tbody tr th:only-of-type {\n",
              "        vertical-align: middle;\n",
              "    }\n",
              "\n",
              "    .dataframe tbody tr th {\n",
              "        vertical-align: top;\n",
              "    }\n",
              "\n",
              "    .dataframe thead th {\n",
              "        text-align: right;\n",
              "    }\n",
              "</style>\n",
              "<table border=\"1\" class=\"dataframe\">\n",
              "  <thead>\n",
              "    <tr style=\"text-align: right;\">\n",
              "      <th></th>\n",
              "      <th>age</th>\n",
              "      <th>agegrp</th>\n",
              "    </tr>\n",
              "  </thead>\n",
              "  <tbody>\n",
              "    <tr>\n",
              "      <th>0</th>\n",
              "      <td>18</td>\n",
              "      <td>7</td>\n",
              "    </tr>\n",
              "    <tr>\n",
              "      <th>1</th>\n",
              "      <td>19</td>\n",
              "      <td>11</td>\n",
              "    </tr>\n",
              "    <tr>\n",
              "      <th>2</th>\n",
              "      <td>20</td>\n",
              "      <td>15</td>\n",
              "    </tr>\n",
              "    <tr>\n",
              "      <th>3</th>\n",
              "      <td>21</td>\n",
              "      <td>22</td>\n",
              "    </tr>\n",
              "    <tr>\n",
              "      <th>4</th>\n",
              "      <td>22</td>\n",
              "      <td>40</td>\n",
              "    </tr>\n",
              "  </tbody>\n",
              "</table>\n",
              "</div>"
            ],
            "text/plain": [
              "   age  agegrp\n",
              "0   18       7\n",
              "1   19      11\n",
              "2   20      15\n",
              "3   21      22\n",
              "4   22      40"
            ]
          },
          "metadata": {
            "tags": []
          },
          "execution_count": 17
        }
      ]
    },
    {
      "cell_type": "code",
      "metadata": {
        "id": "jIONQxR0he-x",
        "colab_type": "code",
        "outputId": "72335cc5-789a-4421-ad38-200053fb9606",
        "colab": {
          "base_uri": "https://localhost:8080/",
          "height": 368
        }
      },
      "source": [
        "# Visualising the relationship using altair\n",
        "\n",
        "alt.Chart(bankSub1).mark_line().encode(x='age', y='agegrp')"
      ],
      "execution_count": 0,
      "outputs": [
        {
          "output_type": "execute_result",
          "data": {
            "text/plain": [
              "alt.Chart(...)"
            ],
            "text/html": [
              "\n",
              "<div id=\"altair-viz-16e77e71679740178bc34bd4349d8130\"></div>\n",
              "<script type=\"text/javascript\">\n",
              "  (function(spec, embedOpt){\n",
              "    let outputDiv = document.currentScript.previousElementSibling;\n",
              "    if (outputDiv.id !== \"altair-viz-16e77e71679740178bc34bd4349d8130\") {\n",
              "      outputDiv = document.getElementById(\"altair-viz-16e77e71679740178bc34bd4349d8130\");\n",
              "    }\n",
              "    const paths = {\n",
              "      \"vega\": \"https://cdn.jsdelivr.net/npm//vega@5?noext\",\n",
              "      \"vega-lib\": \"https://cdn.jsdelivr.net/npm//vega-lib?noext\",\n",
              "      \"vega-lite\": \"https://cdn.jsdelivr.net/npm//vega-lite@4.8.1?noext\",\n",
              "      \"vega-embed\": \"https://cdn.jsdelivr.net/npm//vega-embed@6?noext\",\n",
              "    };\n",
              "\n",
              "    function loadScript(lib) {\n",
              "      return new Promise(function(resolve, reject) {\n",
              "        var s = document.createElement('script');\n",
              "        s.src = paths[lib];\n",
              "        s.async = true;\n",
              "        s.onload = () => resolve(paths[lib]);\n",
              "        s.onerror = () => reject(`Error loading script: ${paths[lib]}`);\n",
              "        document.getElementsByTagName(\"head\")[0].appendChild(s);\n",
              "      });\n",
              "    }\n",
              "\n",
              "    function showError(err) {\n",
              "      outputDiv.innerHTML = `<div class=\"error\" style=\"color:red;\">${err}</div>`;\n",
              "      throw err;\n",
              "    }\n",
              "\n",
              "    function displayChart(vegaEmbed) {\n",
              "      vegaEmbed(outputDiv, spec, embedOpt)\n",
              "        .catch(err => showError(`Javascript Error: ${err.message}<br>This usually means there's a typo in your chart specification. See the javascript console for the full traceback.`));\n",
              "    }\n",
              "\n",
              "    if(typeof define === \"function\" && define.amd) {\n",
              "      requirejs.config({paths});\n",
              "      require([\"vega-embed\"], displayChart, err => showError(`Error loading script: ${err.message}`));\n",
              "    } else if (typeof vegaEmbed === \"function\") {\n",
              "      displayChart(vegaEmbed);\n",
              "    } else {\n",
              "      loadScript(\"vega\")\n",
              "        .then(() => loadScript(\"vega-lite\"))\n",
              "        .then(() => loadScript(\"vega-embed\"))\n",
              "        .catch(showError)\n",
              "        .then(() => displayChart(vegaEmbed));\n",
              "    }\n",
              "  })({\"config\": {\"view\": {\"continuousWidth\": 400, \"continuousHeight\": 300}}, \"data\": {\"name\": \"data-6ffef09df38b640058f0f70d394258ab\"}, \"mark\": \"line\", \"encoding\": {\"x\": {\"type\": \"quantitative\", \"field\": \"age\"}, \"y\": {\"type\": \"quantitative\", \"field\": \"agegrp\"}}, \"$schema\": \"https://vega.github.io/schema/vega-lite/v4.8.1.json\", \"datasets\": {\"data-6ffef09df38b640058f0f70d394258ab\": [{\"age\": 18, \"agegrp\": 7}, {\"age\": 19, \"agegrp\": 11}, {\"age\": 20, \"agegrp\": 15}, {\"age\": 21, \"agegrp\": 22}, {\"age\": 22, \"agegrp\": 40}, {\"age\": 23, \"agegrp\": 44}, {\"age\": 24, \"agegrp\": 68}, {\"age\": 25, \"agegrp\": 113}, {\"age\": 26, \"agegrp\": 134}, {\"age\": 27, \"agegrp\": 141}, {\"age\": 28, \"agegrp\": 162}, {\"age\": 29, \"agegrp\": 171}, {\"age\": 30, \"agegrp\": 217}, {\"age\": 31, \"agegrp\": 206}, {\"age\": 32, \"agegrp\": 221}, {\"age\": 33, \"agegrp\": 210}, {\"age\": 34, \"agegrp\": 198}, {\"age\": 35, \"agegrp\": 209}, {\"age\": 36, \"agegrp\": 195}, {\"age\": 37, \"agegrp\": 170}, {\"age\": 38, \"agegrp\": 144}, {\"age\": 39, \"agegrp\": 143}, {\"age\": 40, \"agegrp\": 116}, {\"age\": 41, \"agegrp\": 120}, {\"age\": 42, \"agegrp\": 111}, {\"age\": 43, \"agegrp\": 103}, {\"age\": 44, \"agegrp\": 93}, {\"age\": 45, \"agegrp\": 106}, {\"age\": 46, \"agegrp\": 118}, {\"age\": 47, \"agegrp\": 113}, {\"age\": 48, \"agegrp\": 82}, {\"age\": 49, \"agegrp\": 101}, {\"age\": 50, \"agegrp\": 72}, {\"age\": 51, \"agegrp\": 77}, {\"age\": 52, \"agegrp\": 85}, {\"age\": 53, \"agegrp\": 85}, {\"age\": 54, \"agegrp\": 84}, {\"age\": 55, \"agegrp\": 76}, {\"age\": 56, \"agegrp\": 68}, {\"age\": 57, \"agegrp\": 78}, {\"age\": 58, \"agegrp\": 72}, {\"age\": 59, \"agegrp\": 88}, {\"age\": 60, \"agegrp\": 98}, {\"age\": 61, \"agegrp\": 57}, {\"age\": 62, \"agegrp\": 39}, {\"age\": 63, \"agegrp\": 30}, {\"age\": 64, \"agegrp\": 35}, {\"age\": 65, \"agegrp\": 21}, {\"age\": 66, \"agegrp\": 24}, {\"age\": 67, \"agegrp\": 23}, {\"age\": 68, \"agegrp\": 21}, {\"age\": 69, \"agegrp\": 17}, {\"age\": 70, \"agegrp\": 17}, {\"age\": 71, \"agegrp\": 25}, {\"age\": 72, \"agegrp\": 24}, {\"age\": 73, \"agegrp\": 24}, {\"age\": 74, \"agegrp\": 13}, {\"age\": 75, \"agegrp\": 15}, {\"age\": 76, \"agegrp\": 16}, {\"age\": 77, \"agegrp\": 22}, {\"age\": 78, \"agegrp\": 14}, {\"age\": 79, \"agegrp\": 10}, {\"age\": 80, \"agegrp\": 12}, {\"age\": 81, \"agegrp\": 6}, {\"age\": 82, \"agegrp\": 8}, {\"age\": 83, \"agegrp\": 6}, {\"age\": 84, \"agegrp\": 5}, {\"age\": 85, \"agegrp\": 4}, {\"age\": 86, \"agegrp\": 4}, {\"age\": 87, \"agegrp\": 3}, {\"age\": 90, \"agegrp\": 2}, {\"age\": 92, \"agegrp\": 2}, {\"age\": 93, \"agegrp\": 2}, {\"age\": 95, \"agegrp\": 1}]}}, {\"mode\": \"vega-lite\"});\n",
              "</script>"
            ]
          },
          "metadata": {
            "tags": []
          },
          "execution_count": 18
        }
      ]
    },
    {
      "cell_type": "code",
      "metadata": {
        "id": "wS9QoDcohe-2",
        "colab_type": "code",
        "outputId": "4836c558-a2a0-4911-8644-c02c180e7264",
        "colab": {
          "base_uri": "https://localhost:8080/",
          "height": 204
        }
      },
      "source": [
        "# Getting another perspective\n",
        "\n",
        "# print(bankData.groupby('age').groups)\n",
        "\n",
        "ageTot = bankData.groupby('age')['y'].agg(ageTot='count').reset_index()\n",
        "ageTot.head()"
      ],
      "execution_count": 0,
      "outputs": [
        {
          "output_type": "execute_result",
          "data": {
            "text/html": [
              "<div>\n",
              "<style scoped>\n",
              "    .dataframe tbody tr th:only-of-type {\n",
              "        vertical-align: middle;\n",
              "    }\n",
              "\n",
              "    .dataframe tbody tr th {\n",
              "        vertical-align: top;\n",
              "    }\n",
              "\n",
              "    .dataframe thead th {\n",
              "        text-align: right;\n",
              "    }\n",
              "</style>\n",
              "<table border=\"1\" class=\"dataframe\">\n",
              "  <thead>\n",
              "    <tr style=\"text-align: right;\">\n",
              "      <th></th>\n",
              "      <th>age</th>\n",
              "      <th>ageTot</th>\n",
              "    </tr>\n",
              "  </thead>\n",
              "  <tbody>\n",
              "    <tr>\n",
              "      <th>0</th>\n",
              "      <td>18</td>\n",
              "      <td>12</td>\n",
              "    </tr>\n",
              "    <tr>\n",
              "      <th>1</th>\n",
              "      <td>19</td>\n",
              "      <td>35</td>\n",
              "    </tr>\n",
              "    <tr>\n",
              "      <th>2</th>\n",
              "      <td>20</td>\n",
              "      <td>50</td>\n",
              "    </tr>\n",
              "    <tr>\n",
              "      <th>3</th>\n",
              "      <td>21</td>\n",
              "      <td>79</td>\n",
              "    </tr>\n",
              "    <tr>\n",
              "      <th>4</th>\n",
              "      <td>22</td>\n",
              "      <td>129</td>\n",
              "    </tr>\n",
              "  </tbody>\n",
              "</table>\n",
              "</div>"
            ],
            "text/plain": [
              "   age  ageTot\n",
              "0   18      12\n",
              "1   19      35\n",
              "2   20      50\n",
              "3   21      79\n",
              "4   22     129"
            ]
          },
          "metadata": {
            "tags": []
          },
          "execution_count": 19
        }
      ]
    },
    {
      "cell_type": "code",
      "metadata": {
        "id": "FKQ8LgUehe-8",
        "colab_type": "code",
        "outputId": "0b4163da-d219-436e-c132-b2e9a889e8b7",
        "colab": {
          "base_uri": "https://localhost:8080/",
          "height": 204
        }
      },
      "source": [
        "# Getting all the details in one place\n",
        "\n",
        "ageProp = bankData.groupby(['age', 'y'])['y'].agg(ageCat='count').reset_index()\n",
        "ageProp.head()"
      ],
      "execution_count": 0,
      "outputs": [
        {
          "output_type": "execute_result",
          "data": {
            "text/html": [
              "<div>\n",
              "<style scoped>\n",
              "    .dataframe tbody tr th:only-of-type {\n",
              "        vertical-align: middle;\n",
              "    }\n",
              "\n",
              "    .dataframe tbody tr th {\n",
              "        vertical-align: top;\n",
              "    }\n",
              "\n",
              "    .dataframe thead th {\n",
              "        text-align: right;\n",
              "    }\n",
              "</style>\n",
              "<table border=\"1\" class=\"dataframe\">\n",
              "  <thead>\n",
              "    <tr style=\"text-align: right;\">\n",
              "      <th></th>\n",
              "      <th>age</th>\n",
              "      <th>y</th>\n",
              "      <th>ageCat</th>\n",
              "    </tr>\n",
              "  </thead>\n",
              "  <tbody>\n",
              "    <tr>\n",
              "      <th>0</th>\n",
              "      <td>18</td>\n",
              "      <td>no</td>\n",
              "      <td>5</td>\n",
              "    </tr>\n",
              "    <tr>\n",
              "      <th>1</th>\n",
              "      <td>18</td>\n",
              "      <td>yes</td>\n",
              "      <td>7</td>\n",
              "    </tr>\n",
              "    <tr>\n",
              "      <th>2</th>\n",
              "      <td>19</td>\n",
              "      <td>no</td>\n",
              "      <td>24</td>\n",
              "    </tr>\n",
              "    <tr>\n",
              "      <th>3</th>\n",
              "      <td>19</td>\n",
              "      <td>yes</td>\n",
              "      <td>11</td>\n",
              "    </tr>\n",
              "    <tr>\n",
              "      <th>4</th>\n",
              "      <td>20</td>\n",
              "      <td>no</td>\n",
              "      <td>35</td>\n",
              "    </tr>\n",
              "  </tbody>\n",
              "</table>\n",
              "</div>"
            ],
            "text/plain": [
              "   age    y  ageCat\n",
              "0   18   no       5\n",
              "1   18  yes       7\n",
              "2   19   no      24\n",
              "3   19  yes      11\n",
              "4   20   no      35"
            ]
          },
          "metadata": {
            "tags": []
          },
          "execution_count": 20
        }
      ]
    },
    {
      "cell_type": "code",
      "metadata": {
        "id": "kQrAqJPyhe_D",
        "colab_type": "code",
        "outputId": "94cfecb7-4503-40bf-abc5-b12ec977522d",
        "colab": {
          "base_uri": "https://localhost:8080/",
          "height": 204
        }
      },
      "source": [
        "# Merging both the data frames\n",
        "\n",
        "ageComb = pd.merge(ageProp, ageTot, left_on=['age'], right_on=['age'])\n",
        "ageComb['catProp'] = (ageComb.ageCat/ageComb.ageTot)*100\n",
        "ageComb.head()"
      ],
      "execution_count": 0,
      "outputs": [
        {
          "output_type": "execute_result",
          "data": {
            "text/html": [
              "<div>\n",
              "<style scoped>\n",
              "    .dataframe tbody tr th:only-of-type {\n",
              "        vertical-align: middle;\n",
              "    }\n",
              "\n",
              "    .dataframe tbody tr th {\n",
              "        vertical-align: top;\n",
              "    }\n",
              "\n",
              "    .dataframe thead th {\n",
              "        text-align: right;\n",
              "    }\n",
              "</style>\n",
              "<table border=\"1\" class=\"dataframe\">\n",
              "  <thead>\n",
              "    <tr style=\"text-align: right;\">\n",
              "      <th></th>\n",
              "      <th>age</th>\n",
              "      <th>y</th>\n",
              "      <th>ageCat</th>\n",
              "      <th>ageTot</th>\n",
              "      <th>catProp</th>\n",
              "    </tr>\n",
              "  </thead>\n",
              "  <tbody>\n",
              "    <tr>\n",
              "      <th>0</th>\n",
              "      <td>18</td>\n",
              "      <td>no</td>\n",
              "      <td>5</td>\n",
              "      <td>12</td>\n",
              "      <td>41.666667</td>\n",
              "    </tr>\n",
              "    <tr>\n",
              "      <th>1</th>\n",
              "      <td>18</td>\n",
              "      <td>yes</td>\n",
              "      <td>7</td>\n",
              "      <td>12</td>\n",
              "      <td>58.333333</td>\n",
              "    </tr>\n",
              "    <tr>\n",
              "      <th>2</th>\n",
              "      <td>19</td>\n",
              "      <td>no</td>\n",
              "      <td>24</td>\n",
              "      <td>35</td>\n",
              "      <td>68.571429</td>\n",
              "    </tr>\n",
              "    <tr>\n",
              "      <th>3</th>\n",
              "      <td>19</td>\n",
              "      <td>yes</td>\n",
              "      <td>11</td>\n",
              "      <td>35</td>\n",
              "      <td>31.428571</td>\n",
              "    </tr>\n",
              "    <tr>\n",
              "      <th>4</th>\n",
              "      <td>20</td>\n",
              "      <td>no</td>\n",
              "      <td>35</td>\n",
              "      <td>50</td>\n",
              "      <td>70.000000</td>\n",
              "    </tr>\n",
              "  </tbody>\n",
              "</table>\n",
              "</div>"
            ],
            "text/plain": [
              "   age    y  ageCat  ageTot    catProp\n",
              "0   18   no       5      12  41.666667\n",
              "1   18  yes       7      12  58.333333\n",
              "2   19   no      24      35  68.571429\n",
              "3   19  yes      11      35  31.428571\n",
              "4   20   no      35      50  70.000000"
            ]
          },
          "metadata": {
            "tags": []
          },
          "execution_count": 21
        }
      ]
    },
    {
      "cell_type": "code",
      "metadata": {
        "id": "c3jQHcQlhe_L",
        "colab_type": "code",
        "outputId": "d0670c76-0835-4061-8d37-d2501cbef299",
        "colab": {
          "base_uri": "https://localhost:8080/",
          "height": 418
        }
      },
      "source": [
        "# Visualising the relationship using altair\n",
        "\n",
        "alt.Chart(ageComb).mark_line().encode(x='age', y='catProp').facet(column='y')"
      ],
      "execution_count": 0,
      "outputs": [
        {
          "output_type": "execute_result",
          "data": {
            "text/plain": [
              "alt.FacetChart(...)"
            ],
            "text/html": [
              "\n",
              "<div id=\"altair-viz-d9bea288134645bc970f553a9a3d7717\"></div>\n",
              "<script type=\"text/javascript\">\n",
              "  (function(spec, embedOpt){\n",
              "    let outputDiv = document.currentScript.previousElementSibling;\n",
              "    if (outputDiv.id !== \"altair-viz-d9bea288134645bc970f553a9a3d7717\") {\n",
              "      outputDiv = document.getElementById(\"altair-viz-d9bea288134645bc970f553a9a3d7717\");\n",
              "    }\n",
              "    const paths = {\n",
              "      \"vega\": \"https://cdn.jsdelivr.net/npm//vega@5?noext\",\n",
              "      \"vega-lib\": \"https://cdn.jsdelivr.net/npm//vega-lib?noext\",\n",
              "      \"vega-lite\": \"https://cdn.jsdelivr.net/npm//vega-lite@4.8.1?noext\",\n",
              "      \"vega-embed\": \"https://cdn.jsdelivr.net/npm//vega-embed@6?noext\",\n",
              "    };\n",
              "\n",
              "    function loadScript(lib) {\n",
              "      return new Promise(function(resolve, reject) {\n",
              "        var s = document.createElement('script');\n",
              "        s.src = paths[lib];\n",
              "        s.async = true;\n",
              "        s.onload = () => resolve(paths[lib]);\n",
              "        s.onerror = () => reject(`Error loading script: ${paths[lib]}`);\n",
              "        document.getElementsByTagName(\"head\")[0].appendChild(s);\n",
              "      });\n",
              "    }\n",
              "\n",
              "    function showError(err) {\n",
              "      outputDiv.innerHTML = `<div class=\"error\" style=\"color:red;\">${err}</div>`;\n",
              "      throw err;\n",
              "    }\n",
              "\n",
              "    function displayChart(vegaEmbed) {\n",
              "      vegaEmbed(outputDiv, spec, embedOpt)\n",
              "        .catch(err => showError(`Javascript Error: ${err.message}<br>This usually means there's a typo in your chart specification. See the javascript console for the full traceback.`));\n",
              "    }\n",
              "\n",
              "    if(typeof define === \"function\" && define.amd) {\n",
              "      requirejs.config({paths});\n",
              "      require([\"vega-embed\"], displayChart, err => showError(`Error loading script: ${err.message}`));\n",
              "    } else if (typeof vegaEmbed === \"function\") {\n",
              "      displayChart(vegaEmbed);\n",
              "    } else {\n",
              "      loadScript(\"vega\")\n",
              "        .then(() => loadScript(\"vega-lite\"))\n",
              "        .then(() => loadScript(\"vega-embed\"))\n",
              "        .catch(showError)\n",
              "        .then(() => displayChart(vegaEmbed));\n",
              "    }\n",
              "  })({\"config\": {\"view\": {\"continuousWidth\": 400, \"continuousHeight\": 300}}, \"data\": {\"name\": \"data-b28c5e3ea9bb3d5b28c12489bdb7d181\"}, \"facet\": {\"column\": {\"type\": \"nominal\", \"field\": \"y\"}}, \"spec\": {\"mark\": \"line\", \"encoding\": {\"x\": {\"type\": \"quantitative\", \"field\": \"age\"}, \"y\": {\"type\": \"quantitative\", \"field\": \"catProp\"}}}, \"$schema\": \"https://vega.github.io/schema/vega-lite/v4.8.1.json\", \"datasets\": {\"data-b28c5e3ea9bb3d5b28c12489bdb7d181\": [{\"age\": 18, \"y\": \"no\", \"ageCat\": 5, \"ageTot\": 12, \"catProp\": 41.66666666666667}, {\"age\": 18, \"y\": \"yes\", \"ageCat\": 7, \"ageTot\": 12, \"catProp\": 58.333333333333336}, {\"age\": 19, \"y\": \"no\", \"ageCat\": 24, \"ageTot\": 35, \"catProp\": 68.57142857142857}, {\"age\": 19, \"y\": \"yes\", \"ageCat\": 11, \"ageTot\": 35, \"catProp\": 31.428571428571427}, {\"age\": 20, \"y\": \"no\", \"ageCat\": 35, \"ageTot\": 50, \"catProp\": 70.0}, {\"age\": 20, \"y\": \"yes\", \"ageCat\": 15, \"ageTot\": 50, \"catProp\": 30.0}, {\"age\": 21, \"y\": \"no\", \"ageCat\": 57, \"ageTot\": 79, \"catProp\": 72.15189873417721}, {\"age\": 21, \"y\": \"yes\", \"ageCat\": 22, \"ageTot\": 79, \"catProp\": 27.848101265822784}, {\"age\": 22, \"y\": \"no\", \"ageCat\": 89, \"ageTot\": 129, \"catProp\": 68.9922480620155}, {\"age\": 22, \"y\": \"yes\", \"ageCat\": 40, \"ageTot\": 129, \"catProp\": 31.007751937984494}, {\"age\": 23, \"y\": \"no\", \"ageCat\": 158, \"ageTot\": 202, \"catProp\": 78.21782178217822}, {\"age\": 23, \"y\": \"yes\", \"ageCat\": 44, \"ageTot\": 202, \"catProp\": 21.782178217821784}, {\"age\": 24, \"y\": \"no\", \"ageCat\": 234, \"ageTot\": 302, \"catProp\": 77.48344370860927}, {\"age\": 24, \"y\": \"yes\", \"ageCat\": 68, \"ageTot\": 302, \"catProp\": 22.516556291390728}, {\"age\": 25, \"y\": \"no\", \"ageCat\": 414, \"ageTot\": 527, \"catProp\": 78.55787476280834}, {\"age\": 25, \"y\": \"yes\", \"ageCat\": 113, \"ageTot\": 527, \"catProp\": 21.44212523719165}, {\"age\": 26, \"y\": \"no\", \"ageCat\": 671, \"ageTot\": 805, \"catProp\": 83.35403726708076}, {\"age\": 26, \"y\": \"yes\", \"ageCat\": 134, \"ageTot\": 805, \"catProp\": 16.645962732919255}, {\"age\": 27, \"y\": \"no\", \"ageCat\": 768, \"ageTot\": 909, \"catProp\": 84.48844884488449}, {\"age\": 27, \"y\": \"yes\", \"ageCat\": 141, \"ageTot\": 909, \"catProp\": 15.51155115511551}, {\"age\": 28, \"y\": \"no\", \"ageCat\": 876, \"ageTot\": 1038, \"catProp\": 84.39306358381504}, {\"age\": 28, \"y\": \"yes\", \"ageCat\": 162, \"ageTot\": 1038, \"catProp\": 15.606936416184972}, {\"age\": 29, \"y\": \"no\", \"ageCat\": 1014, \"ageTot\": 1185, \"catProp\": 85.56962025316456}, {\"age\": 29, \"y\": \"yes\", \"ageCat\": 171, \"ageTot\": 1185, \"catProp\": 14.430379746835442}, {\"age\": 30, \"y\": \"no\", \"ageCat\": 1540, \"ageTot\": 1757, \"catProp\": 87.64940239043824}, {\"age\": 30, \"y\": \"yes\", \"ageCat\": 217, \"ageTot\": 1757, \"catProp\": 12.350597609561753}, {\"age\": 31, \"y\": \"no\", \"ageCat\": 1790, \"ageTot\": 1996, \"catProp\": 89.67935871743487}, {\"age\": 31, \"y\": \"yes\", \"ageCat\": 206, \"ageTot\": 1996, \"catProp\": 10.32064128256513}, {\"age\": 32, \"y\": \"no\", \"ageCat\": 1864, \"ageTot\": 2085, \"catProp\": 89.40047961630695}, {\"age\": 32, \"y\": \"yes\", \"ageCat\": 221, \"ageTot\": 2085, \"catProp\": 10.599520383693045}, {\"age\": 33, \"y\": \"no\", \"ageCat\": 1762, \"ageTot\": 1972, \"catProp\": 89.35091277890467}, {\"age\": 33, \"y\": \"yes\", \"ageCat\": 210, \"ageTot\": 1972, \"catProp\": 10.649087221095336}, {\"age\": 34, \"y\": \"no\", \"ageCat\": 1732, \"ageTot\": 1930, \"catProp\": 89.74093264248705}, {\"age\": 34, \"y\": \"yes\", \"ageCat\": 198, \"ageTot\": 1930, \"catProp\": 10.259067357512954}, {\"age\": 35, \"y\": \"no\", \"ageCat\": 1685, \"ageTot\": 1894, \"catProp\": 88.96515311510032}, {\"age\": 35, \"y\": \"yes\", \"ageCat\": 209, \"ageTot\": 1894, \"catProp\": 11.034846884899684}, {\"age\": 36, \"y\": \"no\", \"ageCat\": 1611, \"ageTot\": 1806, \"catProp\": 89.20265780730897}, {\"age\": 36, \"y\": \"yes\", \"ageCat\": 195, \"ageTot\": 1806, \"catProp\": 10.79734219269103}, {\"age\": 37, \"y\": \"no\", \"ageCat\": 1526, \"ageTot\": 1696, \"catProp\": 89.97641509433963}, {\"age\": 37, \"y\": \"yes\", \"ageCat\": 170, \"ageTot\": 1696, \"catProp\": 10.023584905660378}, {\"age\": 38, \"y\": \"no\", \"ageCat\": 1322, \"ageTot\": 1466, \"catProp\": 90.17735334242838}, {\"age\": 38, \"y\": \"yes\", \"ageCat\": 144, \"ageTot\": 1466, \"catProp\": 9.822646657571624}, {\"age\": 39, \"y\": \"no\", \"ageCat\": 1344, \"ageTot\": 1487, \"catProp\": 90.38332212508406}, {\"age\": 39, \"y\": \"yes\", \"ageCat\": 143, \"ageTot\": 1487, \"catProp\": 9.616677874915938}, {\"age\": 40, \"y\": \"no\", \"ageCat\": 1239, \"ageTot\": 1355, \"catProp\": 91.43911439114392}, {\"age\": 40, \"y\": \"yes\", \"ageCat\": 116, \"ageTot\": 1355, \"catProp\": 8.56088560885609}, {\"age\": 41, \"y\": \"no\", \"ageCat\": 1171, \"ageTot\": 1291, \"catProp\": 90.70487993803253}, {\"age\": 41, \"y\": \"yes\", \"ageCat\": 120, \"ageTot\": 1291, \"catProp\": 9.295120061967467}, {\"age\": 42, \"y\": \"no\", \"ageCat\": 1131, \"ageTot\": 1242, \"catProp\": 91.06280193236715}, {\"age\": 42, \"y\": \"yes\", \"ageCat\": 111, \"ageTot\": 1242, \"catProp\": 8.937198067632849}, {\"age\": 43, \"y\": \"no\", \"ageCat\": 1058, \"ageTot\": 1161, \"catProp\": 91.12833763996555}, {\"age\": 43, \"y\": \"yes\", \"ageCat\": 103, \"ageTot\": 1161, \"catProp\": 8.871662360034453}, {\"age\": 44, \"y\": \"no\", \"ageCat\": 1043, \"ageTot\": 1136, \"catProp\": 91.81338028169014}, {\"age\": 44, \"y\": \"yes\", \"ageCat\": 93, \"ageTot\": 1136, \"catProp\": 8.18661971830986}, {\"age\": 45, \"y\": \"no\", \"ageCat\": 1110, \"ageTot\": 1216, \"catProp\": 91.2828947368421}, {\"age\": 45, \"y\": \"yes\", \"ageCat\": 106, \"ageTot\": 1216, \"catProp\": 8.717105263157894}, {\"age\": 46, \"y\": \"no\", \"ageCat\": 1057, \"ageTot\": 1175, \"catProp\": 89.95744680851064}, {\"age\": 46, \"y\": \"yes\", \"ageCat\": 118, \"ageTot\": 1175, \"catProp\": 10.042553191489361}, {\"age\": 47, \"y\": \"no\", \"ageCat\": 975, \"ageTot\": 1088, \"catProp\": 89.61397058823529}, {\"age\": 47, \"y\": \"yes\", \"ageCat\": 113, \"ageTot\": 1088, \"catProp\": 10.386029411764707}, {\"age\": 48, \"y\": \"no\", \"ageCat\": 915, \"ageTot\": 997, \"catProp\": 91.7753259779338}, {\"age\": 48, \"y\": \"yes\", \"ageCat\": 82, \"ageTot\": 997, \"catProp\": 8.224674022066198}, {\"age\": 49, \"y\": \"no\", \"ageCat\": 893, \"ageTot\": 994, \"catProp\": 89.83903420523139}, {\"age\": 49, \"y\": \"yes\", \"ageCat\": 101, \"ageTot\": 994, \"catProp\": 10.160965794768611}, {\"age\": 50, \"y\": \"no\", \"ageCat\": 867, \"ageTot\": 939, \"catProp\": 92.33226837060703}, {\"age\": 50, \"y\": \"yes\", \"ageCat\": 72, \"ageTot\": 939, \"catProp\": 7.667731629392971}, {\"age\": 51, \"y\": \"no\", \"ageCat\": 859, \"ageTot\": 936, \"catProp\": 91.77350427350427}, {\"age\": 51, \"y\": \"yes\", \"ageCat\": 77, \"ageTot\": 936, \"catProp\": 8.226495726495726}, {\"age\": 52, \"y\": \"no\", \"ageCat\": 826, \"ageTot\": 911, \"catProp\": 90.66959385290889}, {\"age\": 52, \"y\": \"yes\", \"ageCat\": 85, \"ageTot\": 911, \"catProp\": 9.330406147091107}, {\"age\": 53, \"y\": \"no\", \"ageCat\": 806, \"ageTot\": 891, \"catProp\": 90.46015712682379}, {\"age\": 53, \"y\": \"yes\", \"ageCat\": 85, \"ageTot\": 891, \"catProp\": 9.539842873176205}, {\"age\": 54, \"y\": \"no\", \"ageCat\": 727, \"ageTot\": 811, \"catProp\": 89.64241676942046}, {\"age\": 54, \"y\": \"yes\", \"ageCat\": 84, \"ageTot\": 811, \"catProp\": 10.35758323057953}, {\"age\": 55, \"y\": \"no\", \"ageCat\": 730, \"ageTot\": 806, \"catProp\": 90.57071960297766}, {\"age\": 55, \"y\": \"yes\", \"ageCat\": 76, \"ageTot\": 806, \"catProp\": 9.429280397022332}, {\"age\": 56, \"y\": \"no\", \"ageCat\": 710, \"ageTot\": 778, \"catProp\": 91.25964010282776}, {\"age\": 56, \"y\": \"yes\", \"ageCat\": 68, \"ageTot\": 778, \"catProp\": 8.740359897172237}, {\"age\": 57, \"y\": \"no\", \"ageCat\": 750, \"ageTot\": 828, \"catProp\": 90.57971014492753}, {\"age\": 57, \"y\": \"yes\", \"ageCat\": 78, \"ageTot\": 828, \"catProp\": 9.420289855072465}, {\"age\": 58, \"y\": \"no\", \"ageCat\": 668, \"ageTot\": 740, \"catProp\": 90.27027027027027}, {\"age\": 58, \"y\": \"yes\", \"ageCat\": 72, \"ageTot\": 740, \"catProp\": 9.72972972972973}, {\"age\": 59, \"y\": \"no\", \"ageCat\": 682, \"ageTot\": 770, \"catProp\": 88.57142857142857}, {\"age\": 59, \"y\": \"yes\", \"ageCat\": 88, \"ageTot\": 770, \"catProp\": 11.428571428571429}, {\"age\": 60, \"y\": \"no\", \"ageCat\": 498, \"ageTot\": 596, \"catProp\": 83.55704697986577}, {\"age\": 60, \"y\": \"yes\", \"ageCat\": 98, \"ageTot\": 596, \"catProp\": 16.44295302013423}, {\"age\": 61, \"y\": \"no\", \"ageCat\": 90, \"ageTot\": 147, \"catProp\": 61.224489795918366}, {\"age\": 61, \"y\": \"yes\", \"ageCat\": 57, \"ageTot\": 147, \"catProp\": 38.775510204081634}, {\"age\": 62, \"y\": \"no\", \"ageCat\": 41, \"ageTot\": 80, \"catProp\": 51.24999999999999}, {\"age\": 62, \"y\": \"yes\", \"ageCat\": 39, \"ageTot\": 80, \"catProp\": 48.75}, {\"age\": 63, \"y\": \"no\", \"ageCat\": 47, \"ageTot\": 77, \"catProp\": 61.038961038961034}, {\"age\": 63, \"y\": \"yes\", \"ageCat\": 30, \"ageTot\": 77, \"catProp\": 38.961038961038966}, {\"age\": 64, \"y\": \"no\", \"ageCat\": 39, \"ageTot\": 74, \"catProp\": 52.702702702702695}, {\"age\": 64, \"y\": \"yes\", \"ageCat\": 35, \"ageTot\": 74, \"catProp\": 47.2972972972973}, {\"age\": 65, \"y\": \"no\", \"ageCat\": 38, \"ageTot\": 59, \"catProp\": 64.40677966101694}, {\"age\": 65, \"y\": \"yes\", \"ageCat\": 21, \"ageTot\": 59, \"catProp\": 35.59322033898305}, {\"age\": 66, \"y\": \"no\", \"ageCat\": 39, \"ageTot\": 63, \"catProp\": 61.904761904761905}, {\"age\": 66, \"y\": \"yes\", \"ageCat\": 24, \"ageTot\": 63, \"catProp\": 38.095238095238095}, {\"age\": 67, \"y\": \"no\", \"ageCat\": 31, \"ageTot\": 54, \"catProp\": 57.407407407407405}, {\"age\": 67, \"y\": \"yes\", \"ageCat\": 23, \"ageTot\": 54, \"catProp\": 42.592592592592595}, {\"age\": 68, \"y\": \"no\", \"ageCat\": 15, \"ageTot\": 36, \"catProp\": 41.66666666666667}, {\"age\": 68, \"y\": \"yes\", \"ageCat\": 21, \"ageTot\": 36, \"catProp\": 58.333333333333336}, {\"age\": 69, \"y\": \"no\", \"ageCat\": 27, \"ageTot\": 44, \"catProp\": 61.36363636363637}, {\"age\": 69, \"y\": \"yes\", \"ageCat\": 17, \"ageTot\": 44, \"catProp\": 38.63636363636363}, {\"age\": 70, \"y\": \"no\", \"ageCat\": 50, \"ageTot\": 67, \"catProp\": 74.6268656716418}, {\"age\": 70, \"y\": \"yes\", \"ageCat\": 17, \"ageTot\": 67, \"catProp\": 25.37313432835821}, {\"age\": 71, \"y\": \"no\", \"ageCat\": 29, \"ageTot\": 54, \"catProp\": 53.70370370370371}, {\"age\": 71, \"y\": \"yes\", \"ageCat\": 25, \"ageTot\": 54, \"catProp\": 46.2962962962963}, {\"age\": 72, \"y\": \"no\", \"ageCat\": 28, \"ageTot\": 52, \"catProp\": 53.84615384615385}, {\"age\": 72, \"y\": \"yes\", \"ageCat\": 24, \"ageTot\": 52, \"catProp\": 46.15384615384615}, {\"age\": 73, \"y\": \"no\", \"ageCat\": 20, \"ageTot\": 44, \"catProp\": 45.45454545454545}, {\"age\": 73, \"y\": \"yes\", \"ageCat\": 24, \"ageTot\": 44, \"catProp\": 54.54545454545454}, {\"age\": 74, \"y\": \"no\", \"ageCat\": 24, \"ageTot\": 37, \"catProp\": 64.86486486486487}, {\"age\": 74, \"y\": \"yes\", \"ageCat\": 13, \"ageTot\": 37, \"catProp\": 35.13513513513514}, {\"age\": 75, \"y\": \"no\", \"ageCat\": 24, \"ageTot\": 39, \"catProp\": 61.53846153846154}, {\"age\": 75, \"y\": \"yes\", \"ageCat\": 15, \"ageTot\": 39, \"catProp\": 38.46153846153847}, {\"age\": 76, \"y\": \"no\", \"ageCat\": 16, \"ageTot\": 32, \"catProp\": 50.0}, {\"age\": 76, \"y\": \"yes\", \"ageCat\": 16, \"ageTot\": 32, \"catProp\": 50.0}, {\"age\": 77, \"y\": \"no\", \"ageCat\": 22, \"ageTot\": 44, \"catProp\": 50.0}, {\"age\": 77, \"y\": \"yes\", \"ageCat\": 22, \"ageTot\": 44, \"catProp\": 50.0}, {\"age\": 78, \"y\": \"no\", \"ageCat\": 16, \"ageTot\": 30, \"catProp\": 53.333333333333336}, {\"age\": 78, \"y\": \"yes\", \"ageCat\": 14, \"ageTot\": 30, \"catProp\": 46.666666666666664}, {\"age\": 79, \"y\": \"no\", \"ageCat\": 15, \"ageTot\": 25, \"catProp\": 60.0}, {\"age\": 79, \"y\": \"yes\", \"ageCat\": 10, \"ageTot\": 25, \"catProp\": 40.0}, {\"age\": 80, \"y\": \"no\", \"ageCat\": 19, \"ageTot\": 31, \"catProp\": 61.29032258064516}, {\"age\": 80, \"y\": \"yes\", \"ageCat\": 12, \"ageTot\": 31, \"catProp\": 38.70967741935484}, {\"age\": 81, \"y\": \"no\", \"ageCat\": 11, \"ageTot\": 17, \"catProp\": 64.70588235294117}, {\"age\": 81, \"y\": \"yes\", \"ageCat\": 6, \"ageTot\": 17, \"catProp\": 35.294117647058826}, {\"age\": 82, \"y\": \"no\", \"ageCat\": 11, \"ageTot\": 19, \"catProp\": 57.89473684210527}, {\"age\": 82, \"y\": \"yes\", \"ageCat\": 8, \"ageTot\": 19, \"catProp\": 42.10526315789473}, {\"age\": 83, \"y\": \"no\", \"ageCat\": 16, \"ageTot\": 22, \"catProp\": 72.72727272727273}, {\"age\": 83, \"y\": \"yes\", \"ageCat\": 6, \"ageTot\": 22, \"catProp\": 27.27272727272727}, {\"age\": 84, \"y\": \"no\", \"ageCat\": 4, \"ageTot\": 9, \"catProp\": 44.44444444444444}, {\"age\": 84, \"y\": \"yes\", \"ageCat\": 5, \"ageTot\": 9, \"catProp\": 55.55555555555556}, {\"age\": 85, \"y\": \"no\", \"ageCat\": 1, \"ageTot\": 5, \"catProp\": 20.0}, {\"age\": 85, \"y\": \"yes\", \"ageCat\": 4, \"ageTot\": 5, \"catProp\": 80.0}, {\"age\": 86, \"y\": \"no\", \"ageCat\": 5, \"ageTot\": 9, \"catProp\": 55.55555555555556}, {\"age\": 86, \"y\": \"yes\", \"ageCat\": 4, \"ageTot\": 9, \"catProp\": 44.44444444444444}, {\"age\": 87, \"y\": \"no\", \"ageCat\": 1, \"ageTot\": 4, \"catProp\": 25.0}, {\"age\": 87, \"y\": \"yes\", \"ageCat\": 3, \"ageTot\": 4, \"catProp\": 75.0}, {\"age\": 88, \"y\": \"no\", \"ageCat\": 2, \"ageTot\": 2, \"catProp\": 100.0}, {\"age\": 89, \"y\": \"no\", \"ageCat\": 3, \"ageTot\": 3, \"catProp\": 100.0}, {\"age\": 90, \"y\": \"yes\", \"ageCat\": 2, \"ageTot\": 2, \"catProp\": 100.0}, {\"age\": 92, \"y\": \"yes\", \"ageCat\": 2, \"ageTot\": 2, \"catProp\": 100.0}, {\"age\": 93, \"y\": \"yes\", \"ageCat\": 2, \"ageTot\": 2, \"catProp\": 100.0}, {\"age\": 94, \"y\": \"no\", \"ageCat\": 1, \"ageTot\": 1, \"catProp\": 100.0}, {\"age\": 95, \"y\": \"no\", \"ageCat\": 1, \"ageTot\": 2, \"catProp\": 50.0}, {\"age\": 95, \"y\": \"yes\", \"ageCat\": 1, \"ageTot\": 2, \"catProp\": 50.0}]}}, {\"mode\": \"vega-lite\"});\n",
              "</script>"
            ]
          },
          "metadata": {
            "tags": []
          },
          "execution_count": 22
        }
      ]
    },
    {
      "cell_type": "code",
      "metadata": {
        "id": "YldomSYfknOG",
        "colab_type": "code",
        "colab": {}
      },
      "source": [
        "# Caso os charts não apareçam, visualizar elas no google colaboration!"
      ],
      "execution_count": 0,
      "outputs": []
    }
  ]
}