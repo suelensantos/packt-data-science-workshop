{
  "nbformat": 4,
  "nbformat_minor": 0,
  "metadata": {
    "colab": {
      "name": "Instruction for github commands.ipynb",
      "provenance": [],
      "toc_visible": true,
      "mount_file_id": "10ZetQniGmgU91ztaTT2aTi10KnfbmeRo",
      "authorship_tag": "ABX9TyPSqBV1zEP/k/Z9nOuPNqFN",
      "include_colab_link": true
    },
    "kernelspec": {
      "name": "python3",
      "display_name": "Python 3"
    }
  },
  "cells": [
    {
      "cell_type": "markdown",
      "metadata": {
        "id": "view-in-github",
        "colab_type": "text"
      },
      "source": [
        "<a href=\"https://colab.research.google.com/github/suelensantos/packt-data-science-workshop/blob/master/Instruction_for_github_commands.ipynb\" target=\"_parent\"><img src=\"https://colab.research.google.com/assets/colab-badge.svg\" alt=\"Open In Colab\"/></a>"
      ]
    },
    {
      "cell_type": "markdown",
      "metadata": {
        "id": "Y0u3zGfekeEB",
        "colab_type": "text"
      },
      "source": [
        "### Instructions for github commands"
      ]
    },
    {
      "cell_type": "code",
      "metadata": {
        "id": "e0HLVEiksffY",
        "colab_type": "code",
        "colab": {}
      },
      "source": [
        "! git clone https://github.com/suelensantos/packt-data-science-workshop.git"
      ],
      "execution_count": 0,
      "outputs": []
    },
    {
      "cell_type": "code",
      "metadata": {
        "id": "N25nvyHnsnSa",
        "colab_type": "code",
        "colab": {}
      },
      "source": [
        "! ls"
      ],
      "execution_count": 0,
      "outputs": []
    },
    {
      "cell_type": "code",
      "metadata": {
        "id": "Nx7e_pvzsyyl",
        "colab_type": "code",
        "colab": {}
      },
      "source": [
        "! mkdir packt-data-science-workshop/Chapter\\ 1"
      ],
      "execution_count": 0,
      "outputs": []
    },
    {
      "cell_type": "code",
      "metadata": {
        "id": "g6Ly7VYVv4f2",
        "colab_type": "code",
        "colab": {}
      },
      "source": [
        "%pwd"
      ],
      "execution_count": 0,
      "outputs": []
    },
    {
      "cell_type": "code",
      "metadata": {
        "id": "g-DrkSFpwJ00",
        "colab_type": "code",
        "colab": {}
      },
      "source": [
        "%cd './packt-data-science-workshop/Chapter 1'"
      ],
      "execution_count": 0,
      "outputs": []
    },
    {
      "cell_type": "code",
      "metadata": {
        "id": "-4qFh1bQw1ST",
        "colab_type": "code",
        "colab": {}
      },
      "source": [
        "!git status"
      ],
      "execution_count": 0,
      "outputs": []
    },
    {
      "cell_type": "code",
      "metadata": {
        "id": "_TR74S2GxVSn",
        "colab_type": "code",
        "colab": {}
      },
      "source": [
        "%cd '../'"
      ],
      "execution_count": 0,
      "outputs": []
    },
    {
      "cell_type": "code",
      "metadata": {
        "id": "Lmi5kNkixZfq",
        "colab_type": "code",
        "colab": {}
      },
      "source": [
        "!git status"
      ],
      "execution_count": 0,
      "outputs": []
    },
    {
      "cell_type": "code",
      "metadata": {
        "id": "eK4oUyKuxdC0",
        "colab_type": "code",
        "colab": {}
      },
      "source": [
        "!git add ."
      ],
      "execution_count": 0,
      "outputs": []
    },
    {
      "cell_type": "code",
      "metadata": {
        "id": "8eF-5-hhxmd1",
        "colab_type": "code",
        "colab": {}
      },
      "source": [
        "!git commit -m '\"Instructions to use github in google colab\"'"
      ],
      "execution_count": 0,
      "outputs": []
    },
    {
      "cell_type": "code",
      "metadata": {
        "id": "ybx-4-TUzITp",
        "colab_type": "code",
        "colab": {}
      },
      "source": [
        "!git push origin master"
      ],
      "execution_count": 0,
      "outputs": []
    }
  ]
}